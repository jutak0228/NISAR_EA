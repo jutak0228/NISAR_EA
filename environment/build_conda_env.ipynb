{
 "cells": [
  {
   "cell_type": "markdown",
   "id": "bc87f32b-195e-483b-b56f-925919866113",
   "metadata": {
    "editable": true,
    "slideshow": {
     "slide_type": ""
    },
    "tags": []
   },
   "source": [
    "# Create Conda Environment Notebook\n",
    "\n",
    "*For use with the opensarlab_NISAR_EA_Workshop_2024_1_Recipe_Book*"
   ]
  },
  {
   "cell_type": "code",
   "execution_count": 1,
   "id": "e56dc99e-8bbf-4cb8-8cd6-47cbb80709b8",
   "metadata": {},
   "outputs": [],
   "source": [
    "from pathlib import Path\n",
    "import yaml"
   ]
  },
  {
   "cell_type": "markdown",
   "id": "ab3f8cca-5fc2-421d-bffa-2402c7f22461",
   "metadata": {},
   "source": [
    "## Build the `NISAR_EA_Workshop_2024_1` Conda Environment\n",
    "\n",
    "*Note: We use a conda environment config with all packages pinned for stability: `environment_locked.yaml'*\n",
    "\n",
    "*There is an unpinned `environment.yaml` provided, but it may not remain stable with dependency updates, which can occur any time*"
   ]
  },
  {
   "cell_type": "code",
   "execution_count": 2,
   "id": "adf25b39-2c53-4ec5-ab95-04f93ca7ffce",
   "metadata": {},
   "outputs": [
    {
     "name": "stdout",
     "output_type": "stream",
     "text": [
      "environment_locked.yaml path: /home/jovyan/Workshop_Jupyter_Books/NISAR_EA_Workshop_2024_1_Recipe_Book/environment/environment_locked.yaml\n",
      "environment name: NISAR_EA_Workshop_2024_1\n"
     ]
    }
   ],
   "source": [
    "yaml_name = \"environment_locked.yaml\"\n",
    "conda_yaml_pth = list(Path.cwd().glob(yaml_name))[0]\n",
    "with open(conda_yaml_pth, 'r') as f:\n",
    "    try:\n",
    "        env = yaml.safe_load(f)\n",
    "        env_name = env['name']\n",
    "    except yaml.YAMLError:\n",
    "        raise\n",
    "print(f'environment_locked.yaml path: {conda_yaml_pth}')\n",
    "print(f'environment name: {env_name}')"
   ]
  },
  {
   "cell_type": "code",
   "execution_count": 3,
   "id": "c262ddfa-ff80-43df-b011-2f63d91fc774",
   "metadata": {},
   "outputs": [
    {
     "name": "stdout",
     "output_type": "stream",
     "text": [
      "Preparing transaction: ...working... done\n",
      "Verifying transaction: ...working... done\n",
      "Executing transaction: ...working... done\n",
      "Installing pip dependencies: ...working... done\n",
      "{\n",
      "  \"argv\": [\n",
      "    \"bash\",\n",
      "    \"-c\",\n",
      "    \"source \\\"/opt/conda/bin/activate\\\" \\\"/home/jovyan/.local/envs/NISAR_EA_Workshop_2024_1\\\" && exec /home/jovyan/.local/envs/NISAR_EA_Workshop_2024_1/bin/python -m ipykernel_launcher -f '{connection_file}' \"\n",
      "  ],\n",
      "  \"display_name\": \"NISAR_EA_Workshop_2024_1\",\n",
      "  \"language\": \"python\",\n",
      "  \"metadata\": {\n",
      "    \"debugger\": true\n",
      "  }\n",
      "}\n",
      "\n",
      "Wrote to /home/jovyan/.local/envs/NISAR_EA_Workshop_2024_1/share/jupyter/kernels/python3/kernel.json\n",
      "\n",
      "Cloning into '/home/jovyan/.local/ARIA-tools'...\n",
      "remote: Enumerating objects: 4015, done.\u001b[K\n",
      "remote: Counting objects: 100% (2154/2154), done.\u001b[K\n",
      "remote: Compressing objects: 100% (653/653), done.\u001b[K\n",
      "remote: Total 4015 (delta 1745), reused 1812 (delta 1472), pack-reused 1861\u001b[K\n",
      "Receiving objects: 100% (4015/4015), 11.54 MiB | 16.97 MiB/s, done.\n",
      "Resolving deltas: 100% (2806/2806), done.\n",
      "ARIA-tools v1.1.2-1 2021-07-29\n",
      "Installing ARIA-tools without support for RelaxIV\n",
      "\n",
      "/home/jovyan/.local/envs/NISAR_EA_Workshop_2024_1/lib/python3.9/site-packages/setuptools/dist.py:314: InformationOnly: Normalizing 'v1.1.2' to '1.1.2'\n",
      "  self.metadata.version = self._normalize_version(self.metadata.version)\n",
      "\n",
      "ARIA-tools v1.1.2-1 2021-07-29\n",
      "Installing ARIA-tools without support for RelaxIV\n",
      "\n",
      "/home/jovyan/.local/envs/NISAR_EA_Workshop_2024_1/lib/python3.9/site-packages/setuptools/dist.py:314: InformationOnly: Normalizing 'v1.1.2' to '1.1.2'\n",
      "  self.metadata.version = self._normalize_version(self.metadata.version)\n",
      "/home/jovyan/.local/envs/NISAR_EA_Workshop_2024_1/lib/python3.9/site-packages/setuptools/_distutils/cmd.py:66: SetuptoolsDeprecationWarning: setup.py install is deprecated.\n",
      "!!\n",
      "\n",
      "        ********************************************************************************\n",
      "        Please avoid running ``setup.py`` directly.\n",
      "        Instead, use pypa/build, pypa/installer or other\n",
      "        standards-based tools.\n",
      "\n",
      "        See https://blog.ganssle.io/articles/2021/10/setup-py-deprecated.html for details.\n",
      "        ********************************************************************************\n",
      "\n",
      "!!\n",
      "  self.initialize_options()\n",
      "/home/jovyan/.local/envs/NISAR_EA_Workshop_2024_1/lib/python3.9/site-packages/setuptools/_distutils/cmd.py:66: EasyInstallDeprecationWarning: easy_install command is deprecated.\n",
      "!!\n",
      "\n",
      "        ********************************************************************************\n",
      "        Please avoid running ``setup.py`` and ``easy_install``.\n",
      "        Instead, use pypa/build, pypa/installer or other\n",
      "        standards-based tools.\n",
      "\n",
      "        See https://github.com/pypa/setuptools/issues/917 for details.\n",
      "        ********************************************************************************\n",
      "\n",
      "!!\n",
      "  self.initialize_options()\n",
      "zip_safe flag not set; analyzing archive contents...\n",
      "\n",
      "Cloning into '/home/jovyan/ARIA-tools-docs'...\n",
      "remote: Enumerating objects: 87, done.\u001b[K\n",
      "remote: Counting objects: 100% (87/87), done.\u001b[K\n",
      "remote: Compressing objects: 100% (81/81), done.\u001b[K\n",
      "remote: Total 87 (delta 1), reused 81 (delta 1), pack-reused 0\u001b[K\n",
      "Receiving objects: 100% (87/87), 55.45 MiB | 35.53 MiB/s, done.\n",
      "Resolving deltas: 100% (1/1), done.\n"
     ]
    }
   ],
   "source": [
    "# If running outside of OpenSARLab, update conda_prefix \n",
    "# to the path of your system's conda envs directory\n",
    "conda_prefix = Path.home()/f\".local/envs/{env_name}\"\n",
    "\n",
    "# Create the environment\n",
    "!mamba env create -f {conda_yaml_pth} --prefix {conda_prefix} -q --force\n",
    "\n",
    "# Without running this, every environment would appear in the GUI with the same name, 'Python 3'\n",
    "!mamba run -n {env_name} kernda --display-name {env_name} -o {conda_prefix}/share/jupyter/kernels/python3/kernel.json\n",
    "\n",
    "# Run the script to install ARIA-Tools\n",
    "!source \"opensarlab_NISAR_EA_Workshop_2024_1_Recipe_Book_env.sh\""
   ]
  },
  {
   "cell_type": "code",
   "execution_count": null,
   "id": "2fddf94d-15ad-4487-9a19-57273fcd47ce",
   "metadata": {},
   "outputs": [],
   "source": []
  }
 ],
 "metadata": {
  "kernelspec": {
   "display_name": "base",
   "language": "python",
   "name": "python3"
  },
  "language_info": {
   "codemirror_mode": {
    "name": "ipython",
    "version": 3
   },
   "file_extension": ".py",
   "mimetype": "text/x-python",
   "name": "python",
   "nbconvert_exporter": "python",
   "pygments_lexer": "ipython3",
   "version": "3.11.6"
  }
 },
 "nbformat": 4,
 "nbformat_minor": 5
}
