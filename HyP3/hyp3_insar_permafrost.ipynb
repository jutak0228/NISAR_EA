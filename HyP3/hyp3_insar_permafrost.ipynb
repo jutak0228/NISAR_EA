{
 "cells": [
  {
   "cell_type": "markdown",
   "id": "800b543c-8724-49ee-aa01-12caf891cf11",
   "metadata": {},
   "source": [
    "# HyP3 On-Demand GAMMA-InSAR, SBAS\n",
    "\n",
    "## Example: programmatic access of ASF HyP3 On-Demand Processing.\n",
    "\n",
    "- Downloads interferograms from HyP3\n",
    "\n",
    "**Author:** Jie Chen, University of Alaska Fairbanks\n",
    "\n",
    ">**Example Only. Not Needed for Workshop.**\n",
    ">- This orders the interferograms used with the accompanying notebook, `MintPy_sbas_permafrost_Alaska.ipynb` (<u>Quantifying permafrost-related ground deformation with InSAR Time Series using HyP3 products and MintPy</u>).\n",
    ">- The dataset has already been processed and saved in an S3 bucket. The MintPy notebook uses the pre-staged dataset, so it is not necessary to run this notebook.\n",
    "\n",
    "**Adapt this code to order SBAS stacks over your area of interest.**"
   ]
  },
  {
   "cell_type": "markdown",
   "id": "d1852ab2-a959-4956-9114-6436ad8acb48",
   "metadata": {},
   "source": [
    "### Set parameters"
   ]
  },
  {
   "cell_type": "code",
   "execution_count": 1,
   "id": "39c4d642-0df0-48e3-9fbd-5be3d3565ff0",
   "metadata": {},
   "outputs": [],
   "source": [
    "from pathlib import Path\n",
    "from dateutil.parser import parse as parse_date\n",
    "\n",
    "import pandas as pd\n",
    "from typing import List, Union\n",
    "from osgeo import gdal\n",
    "\n",
    "import asf_search as asf\n",
    "import hyp3_sdk as sdk"
   ]
  },
  {
   "cell_type": "markdown",
   "id": "1d6bf25a-13f8-4b26-984b-4fb31b2fab63",
   "metadata": {},
   "source": [
    "## 1. Select InSAR pairs with ASF Search"
   ]
  },
  {
   "cell_type": "code",
   "execution_count": 2,
   "id": "23243435-dae0-422f-8b81-1350ae4971e7",
   "metadata": {},
   "outputs": [],
   "source": [
    "# Define a project name\n",
    "project_name = 'AK_P15D_2021-2022'\n",
    "work_dir = Path.cwd()\n",
    "data_dir = work_dir / 'insar_data'\n",
    "\n",
    "# Define the dataset parameters\n",
    "start_date = '2021-06-01'\n",
    "end_date = '2022-10-01'\n",
    "max_temporal_baseline = 36  # days\n",
    "interannual_baseline_max = 380\n",
    "interannual_baseline_min = 350\n",
    "look_nums = '20x4'     # Range x Azimuth looks\n",
    "phase_filter_para = 0.8   # Exponent parameters for adaptive filter before phase unwrapping\n",
    "overlap = [516000.000, 7535000.000, 526000.000, 7525000.000]   # AOI with common overlap\n",
    "\n",
    "# Set the polygons\n",
    "wkt = 'POLYGON((-164.5341 67.8529,-164.2322 67.8529,-164.2322 67.9293,-164.5341 67.9293,-164.5341 67.8529))'   # Get from ASF AOI\n",
    "\n",
    "stack_start = parse_date(start_date + ' 00:00:00Z')\n",
    "stack_end = parse_date(end_date + ' 00:00:00Z')\n",
    "year_start = stack_start.year\n",
    "year_end = stack_end.year\n",
    "season_period = [start_date[5:], end_date[5:]]\n",
    "\n",
    "data_dir.mkdir(parents=True, exist_ok=True)"
   ]
  },
  {
   "cell_type": "code",
   "execution_count": 3,
   "id": "308f385e-bd51-4162-86ad-1d874503d3ad",
   "metadata": {},
   "outputs": [
    {
     "name": "stderr",
     "output_type": "stream",
     "text": [
      "/home/jovyan/.local/envs/NISAR_EA_Workshop_2024_1/lib/python3.9/site-packages/tzlocal/unix.py:193: UserWarning: Can not find any timezone configuration, defaulting to UTC.\n",
      "  warnings.warn(\"Can not find any timezone configuration, defaulting to UTC.\")\n"
     ]
    }
   ],
   "source": [
    "# All options to geo_search() can be specified using kwargs, which also allows them to be handled using a dictionary.\n",
    "opts = {\n",
    "    'platform': asf.SENTINEL1,\n",
    "    'start': start_date,\n",
    "    'end': end_date,\n",
    "    'processingLevel': asf.SLC,\n",
    "    'beamMode': asf.IW,\n",
    "    'flightDirection': asf.DESCENDING,\n",
    "    'relativeOrbit': 15\n",
    "}\n",
    "search_results = asf.geo_search(\n",
    "        intersectsWith=wkt,\n",
    "        **opts\n",
    "    )"
   ]
  },
  {
   "cell_type": "code",
   "execution_count": 4,
   "id": "21defa00-b872-4743-bc98-b2dc46f430eb",
   "metadata": {},
   "outputs": [
    {
     "name": "stdout",
     "output_type": "stream",
     "text": [
      "POINT (-165.05558675728977 67.33204179507277)\n",
      "41 SLC images found\n"
     ]
    }
   ],
   "source": [
    "centroid = search_results[1].centroid().wkt\n",
    "print(centroid)\n",
    "centroid_results = asf.geo_search(intersectsWith=centroid, **opts)\n",
    "search_results = centroid_results\n",
    "print(f'{len(search_results)} SLC images found')\n",
    "# print(search_results[0])"
   ]
  },
  {
   "cell_type": "code",
   "execution_count": 5,
   "id": "115ff896-e174-48cc-889c-471c8bb5306e",
   "metadata": {},
   "outputs": [],
   "source": [
    "baseline_results = asf.baseline_search.stack_from_product(search_results[-1])\n",
    "\n",
    "columns = list(baseline_results[0].properties.keys()) + ['geometry', ]\n",
    "data = [list(scene.properties.values()) + [scene.geometry, ] for scene in baseline_results]\n",
    "\n",
    "stack = pd.DataFrame(data, columns=columns)\n",
    "stack['startTime'] = stack.startTime.apply(parse_date)\n",
    "\n",
    "stack = stack.loc[(stack_start <= stack.startTime) & (stack.startTime <= stack_end)]"
   ]
  },
  {
   "cell_type": "code",
   "execution_count": 6,
   "id": "460c0a61-0aaf-40e9-b42f-9c348983b9ef",
   "metadata": {},
   "outputs": [
    {
     "name": "stdout",
     "output_type": "stream",
     "text": [
      "Total SAR sences are: 21\n",
      "2021-06-07T17:33:39.000000000 <class 'numpy.datetime64'>\n",
      "2021-06-19T17:33:40.000000000 <class 'numpy.datetime64'>\n",
      "2021-07-01T17:33:41.000000000 <class 'numpy.datetime64'>\n",
      "2021-07-13T17:33:41.000000000 <class 'numpy.datetime64'>\n",
      "2021-07-25T17:33:42.000000000 <class 'numpy.datetime64'>\n",
      "2021-08-06T17:33:43.000000000 <class 'numpy.datetime64'>\n",
      "2021-08-18T17:33:43.000000000 <class 'numpy.datetime64'>\n",
      "2021-08-30T17:33:44.000000000 <class 'numpy.datetime64'>\n",
      "2021-09-11T17:33:45.000000000 <class 'numpy.datetime64'>\n",
      "2021-09-23T17:33:45.000000000 <class 'numpy.datetime64'>\n",
      "2022-06-02T17:33:45.000000000 <class 'numpy.datetime64'>\n",
      "2022-06-14T17:33:46.000000000 <class 'numpy.datetime64'>\n",
      "2022-06-26T17:33:47.000000000 <class 'numpy.datetime64'>\n",
      "2022-07-08T17:33:47.000000000 <class 'numpy.datetime64'>\n",
      "2022-07-20T17:33:48.000000000 <class 'numpy.datetime64'>\n",
      "2022-08-01T17:33:49.000000000 <class 'numpy.datetime64'>\n",
      "2022-08-13T17:33:50.000000000 <class 'numpy.datetime64'>\n",
      "2022-08-25T17:33:50.000000000 <class 'numpy.datetime64'>\n",
      "2022-09-06T17:33:51.000000000 <class 'numpy.datetime64'>\n",
      "2022-09-18T17:33:51.000000000 <class 'numpy.datetime64'>\n",
      "2022-09-30T17:33:51.000000000 <class 'numpy.datetime64'>\n"
     ]
    }
   ],
   "source": [
    "# Construct interferometric pairs\n",
    "stack_season = pd.DataFrame()\n",
    "for year_index in range(int(year_start), int(year_end) + 1):\n",
    "    season_start = parse_date(f'{str(year_index)}-{season_period[0]} 00:00:00Z')\n",
    "    season_end = parse_date(f'{str(year_index)}-{season_period[1]} 00:00:00Z')\n",
    "    stack_season = pd.concat([stack_season, stack.loc[(season_start <= stack.startTime) & (stack.startTime <= season_end)]])\n",
    "print('Total SAR sences are:', len(stack_season.startTime))\n",
    "for i in stack_season.startTime.values:   # or stack_season['startTime'].values\n",
    "    print(i, type(i))"
   ]
  },
  {
   "cell_type": "code",
   "execution_count": 7,
   "id": "e7f8f750-67e7-46c8-b314-f0d7dedc396e",
   "metadata": {},
   "outputs": [
    {
     "name": "stdout",
     "output_type": "stream",
     "text": [
      "The seasonal interferometric pairs are (reference-secondary): \n",
      "20220918 20220930\n",
      "20220906 20220918\n",
      "20220906 20220930\n",
      "20220825 20220906\n",
      "20220825 20220918\n",
      "20220825 20220930\n",
      "20220813 20220825\n",
      "20220813 20220906\n",
      "20220813 20220918\n",
      "20220801 20220813\n",
      "20220801 20220825\n",
      "20220801 20220906\n",
      "20220720 20220801\n",
      "20220720 20220813\n",
      "20220720 20220825\n",
      "20220708 20220720\n",
      "20220708 20220801\n",
      "20220708 20220813\n",
      "20220626 20220708\n",
      "20220626 20220720\n",
      "20220626 20220801\n",
      "20220614 20220626\n",
      "20220614 20220708\n",
      "20220614 20220720\n",
      "20220602 20220614\n",
      "20220602 20220626\n",
      "20220602 20220708\n",
      "20210911 20210923\n",
      "20210830 20210911\n",
      "20210830 20210923\n",
      "20210818 20210830\n",
      "20210818 20210911\n",
      "20210818 20210923\n",
      "20210806 20210818\n",
      "20210806 20210830\n",
      "20210806 20210911\n",
      "20210725 20210806\n",
      "20210725 20210818\n",
      "20210725 20210830\n",
      "20210713 20210725\n",
      "20210713 20210806\n",
      "20210713 20210818\n",
      "20210701 20210713\n",
      "20210701 20210725\n",
      "20210701 20210806\n",
      "20210619 20210701\n",
      "20210619 20210713\n",
      "20210619 20210725\n",
      "20210607 20210619\n",
      "20210607 20210701\n",
      "20210607 20210713\n",
      "The inter-annual interferometric pairs are (reference-secondary): \n",
      "20210923 20220918\n",
      "20210923 20220930\n",
      "20210911 20220906\n",
      "20210911 20220918\n",
      "20210830 20220825\n",
      "20210830 20220906\n",
      "20210818 20220813\n",
      "20210818 20220825\n",
      "20210806 20220801\n",
      "20210806 20220813\n",
      "20210725 20220720\n",
      "20210725 20220801\n",
      "20210713 20220708\n",
      "20210713 20220720\n",
      "20210701 20220626\n",
      "20210701 20220708\n",
      "20210619 20220614\n",
      "20210619 20220626\n",
      "20210607 20220602\n",
      "20210607 20220614\n",
      "The total number of interferometric pairs are:  71\n"
     ]
    }
   ],
   "source": [
    "# Construct the seasonal and inter-annual pairs. You can modify the networking strategies.\n",
    "sbas_pairs = set()\n",
    "\n",
    "# For adjacent interferogram pair search\n",
    "sbas_pairs = set()\n",
    "print('The seasonal interferometric pairs are (reference-secondary): ')\n",
    "for reference, rt in stack_season.loc[::-1, ['sceneName', 'temporalBaseline']].itertuples(index=False):\n",
    "    secondaries = stack_season.loc[\n",
    "        (stack_season.sceneName != reference)\n",
    "        & (stack_season.temporalBaseline - rt <= max_temporal_baseline)\n",
    "        & (stack_season.temporalBaseline - rt > 0)\n",
    "    ]\n",
    "    for secondary in secondaries.sceneName:\n",
    "        sbas_pairs.add((reference, secondary))\n",
    "        print(reference[17:25], secondary[17:25])\n",
    "\n",
    "# For inter-annual pairs\n",
    "print('The inter-annual interferometric pairs are (reference-secondary): ')\n",
    "for reference, rt in stack_season.loc[::-1, ['sceneName', 'temporalBaseline']].itertuples(index=False):\n",
    "    # print(reference, rt)\n",
    "    secondaries = stack_season.loc[\n",
    "        (stack_season.sceneName != reference)\n",
    "        & (stack_season.temporalBaseline - rt <= interannual_baseline_max)\n",
    "        & (stack_season.temporalBaseline - rt > interannual_baseline_min)\n",
    "    ]\n",
    "    for secondary in secondaries.sceneName:\n",
    "        sbas_pairs.add((reference, secondary))\n",
    "        print(reference[17:25], secondary[17:25])\n",
    "print('The total number of interferometric pairs are: ', len(sbas_pairs))"
   ]
  },
  {
   "cell_type": "markdown",
   "id": "f2ed4ed3-3e95-439b-b563-98e6cfdb69b1",
   "metadata": {},
   "source": [
    "## 2. Request On Demand InSAR products from ASF HyP3\n",
    "\n",
    "Use your [NASA Earthdata login](https://urs.earthdata.nasa.gov/) to connect to [ASF HyP3](https://hyp3-docs.asf.alaska.edu/)."
   ]
  },
  {
   "cell_type": "code",
   "execution_count": 9,
   "id": "6fe80014-fd63-4bc7-9482-de4e4e50adb2",
   "metadata": {},
   "outputs": [
    {
     "name": "stdin",
     "output_type": "stream",
     "text": [
      "NASA Earthdata Login username:  jumpeitakami\n",
      "NASA Earthdata Login password:  ········\n"
     ]
    }
   ],
   "source": [
    "hyp3 = sdk.HyP3(prompt=True)"
   ]
  },
  {
   "cell_type": "code",
   "execution_count": 10,
   "id": "794f2a59-0cbc-4d1a-b947-a35442bdf192",
   "metadata": {},
   "outputs": [
    {
     "name": "stdout",
     "output_type": "stream",
     "text": [
      "5.0.0\n"
     ]
    }
   ],
   "source": [
    "print(sdk.version('hyp3_sdk'))"
   ]
  },
  {
   "cell_type": "code",
   "execution_count": 11,
   "id": "f59d269b-8aa0-415b-b086-ab2ef2b2ced7",
   "metadata": {},
   "outputs": [
    {
     "name": "stdout",
     "output_type": "stream",
     "text": [
      "0 HyP3 Jobs: 0 succeeded, 0 failed, 0 running, 0 pending.\n"
     ]
    }
   ],
   "source": [
    "jobs = sdk.Batch()\n",
    "print(jobs)"
   ]
  },
  {
   "cell_type": "code",
   "execution_count": 12,
   "id": "142cbf18-5e9a-434a-b776-26506929dd5e",
   "metadata": {},
   "outputs": [],
   "source": [
    "# Set up the interferogram parameters here\n",
    "# This step will submit the HyP3 InSAR job! Be careful!\n",
    "# The code will not check if the project is exist or not. \n",
    "for reference, secondary in sbas_pairs:\n",
    "    jobs += hyp3.submit_insar_job(reference, secondary, name=project_name,\n",
    "                                  include_wrapped_phase= True, apply_water_mask=True,\n",
    "                                  include_dem=True, include_look_vectors=True,\n",
    "                                 looks=look_nums, phase_filter_parameter=phase_filter_para)"
   ]
  },
  {
   "cell_type": "code",
   "execution_count": 14,
   "id": "2b5cf95d-73fc-4463-9616-494423a21f3a",
   "metadata": {},
   "outputs": [
    {
     "data": {
      "application/vnd.jupyter.widget-view+json": {
       "model_id": "32b2d1f3f3f34e98992f4cf6f0f04e71",
       "version_major": 2,
       "version_minor": 0
      },
      "text/plain": [
       "  0%|          | 0/71 [timeout in 10800 s]"
      ]
     },
     "metadata": {},
     "output_type": "display_data"
    }
   ],
   "source": [
    "jobs = hyp3.watch(jobs)"
   ]
  },
  {
   "cell_type": "code",
   "execution_count": 15,
   "id": "ec7b58f5-260b-441d-9d30-fb2402492845",
   "metadata": {},
   "outputs": [
    {
     "name": "stdout",
     "output_type": "stream",
     "text": [
      "71 HyP3 Jobs: 71 succeeded, 0 failed, 0 running, 0 pending.\n"
     ]
    }
   ],
   "source": [
    "jobs = hyp3.find_jobs(name=project_name)\n",
    "print(jobs)"
   ]
  },
  {
   "cell_type": "code",
   "execution_count": 16,
   "id": "f55e40b9-aad2-4e1e-994f-3f5559552d63",
   "metadata": {},
   "outputs": [],
   "source": [
    "# Check if all the jobs are succeeded.\n",
    "# jobs_failed = jobs.filter_jobs(succeeded=False, running=False, failed=True, include_expired=False)\n",
    "# print(jobs)"
   ]
  },
  {
   "cell_type": "markdown",
   "id": "1865c138-6101-454a-b407-4e8a607c205f",
   "metadata": {},
   "source": [
    "## 3. Subset all GeoTIFFs to AOI with common overlap"
   ]
  },
  {
   "cell_type": "code",
   "execution_count": 17,
   "id": "e3ee8d94-735f-4e90-83ab-1aa25bed7f10",
   "metadata": {},
   "outputs": [],
   "source": [
    "# Clip HyP3 geotiff products to user-defined AOI\n",
    "def clip_hyp3_products_to_AOI(data_path: Union[str, Path], overlap: List[float]) -> None:\n",
    "    \"\"\"Clip all GeoTIFF files to AOI with common overlap\n",
    "    \n",
    "    Args:\n",
    "        data_dir:\n",
    "            directory containing the GeoTIFF files to clip\n",
    "        overlap:\n",
    "            a list of the upper-left x, upper-left y, lower-right-x, and lower-tight y\n",
    "            corner coordinates of AOI\n",
    "    Returns: None\n",
    "    \"\"\"\n",
    "\n",
    "    files_for_mintpy = ['_water_mask.tif', '_corr.tif', '_unw_phase.tif', '_wrapped_phase.tif', '_dem.tif', '_lv_theta.tif', '_lv_phi.tif', '_amp.tif']\n",
    "    files_del = [\"amp.tif\",\"corr.tif\",\"dem.tif\",\"phi.tif\", \"theta.tif\", \"phase.tif\", 'mask.tif']\n",
    "    \n",
    "    for extension in files_for_mintpy:\n",
    "        for file in data_path.rglob(f'*{extension}'):\n",
    "            dst_file = file.parent / f'{file.stem}_clip{file.suffix}'\n",
    "            gdal.Translate(destName=str(dst_file), srcDS=str(file), projWin=overlap)\n",
    "            file.unlink()"
   ]
  },
  {
   "cell_type": "code",
   "execution_count": 18,
   "id": "7881716f-3db8-468a-989e-c866509e396c",
   "metadata": {},
   "outputs": [
    {
     "data": {
      "application/vnd.jupyter.widget-view+json": {
       "model_id": "8b453cc327f24ef6ba8a83d4d36fa780",
       "version_major": 2,
       "version_minor": 0
      },
      "text/plain": [
       "S1AA_20220708T173347_20220813T173350_VVP036_INT80_G_weF_4F61.zip:   0%|          | 0/235848654 [00:00<?, ?it/s…"
      ]
     },
     "metadata": {},
     "output_type": "display_data"
    },
    {
     "data": {
      "application/vnd.jupyter.widget-view+json": {
       "model_id": "f183cb5a68c244e8b82f0ada70ee0e13",
       "version_major": 2,
       "version_minor": 0
      },
      "text/plain": [
       "S1AA_20220801T173349_20220906T173351_VVP036_INT80_G_weF_A42E.zip:   0%|          | 0/235554713 [00:00<?, ?it/s…"
      ]
     },
     "metadata": {},
     "output_type": "display_data"
    },
    {
     "data": {
      "application/vnd.jupyter.widget-view+json": {
       "model_id": "2e1ba86d46e741439b1c5ade7960a6be",
       "version_major": 2,
       "version_minor": 0
      },
      "text/plain": [
       "S1AA_20210911T173345_20210923T173345_VVP012_INT80_G_weF_AA64.zip:   0%|          | 0/234689719 [00:00<?, ?it/s…"
      ]
     },
     "metadata": {},
     "output_type": "display_data"
    },
    {
     "data": {
      "application/vnd.jupyter.widget-view+json": {
       "model_id": "d036651566714857afe23bb6dd355e17",
       "version_major": 2,
       "version_minor": 0
      },
      "text/plain": [
       "S1AA_20210830T173344_20220825T173350_VVP360_INT80_G_weF_D3CA.zip:   0%|          | 0/235544968 [00:00<?, ?it/s…"
      ]
     },
     "metadata": {},
     "output_type": "display_data"
    },
    {
     "data": {
      "application/vnd.jupyter.widget-view+json": {
       "model_id": "0df86aff587c4a74a14d24f4bc167b9b",
       "version_major": 2,
       "version_minor": 0
      },
      "text/plain": [
       "S1AA_20220813T173350_20220906T173351_VVP024_INT80_G_weF_9778.zip:   0%|          | 0/234632757 [00:00<?, ?it/s…"
      ]
     },
     "metadata": {},
     "output_type": "display_data"
    },
    {
     "data": {
      "application/vnd.jupyter.widget-view+json": {
       "model_id": "9cd13bc2eb11451e9255dc7be34131e4",
       "version_major": 2,
       "version_minor": 0
      },
      "text/plain": [
       "S1AA_20220708T173347_20220720T173348_VVP012_INT80_G_weF_5ECC.zip:   0%|          | 0/235462230 [00:00<?, ?it/s…"
      ]
     },
     "metadata": {},
     "output_type": "display_data"
    },
    {
     "data": {
      "application/vnd.jupyter.widget-view+json": {
       "model_id": "94e28c52e2284651b74811daf3255ba7",
       "version_major": 2,
       "version_minor": 0
      },
      "text/plain": [
       "S1AA_20210830T173344_20210923T173345_VVP024_INT80_G_weF_6CD8.zip:   0%|          | 0/235493672 [00:00<?, ?it/s…"
      ]
     },
     "metadata": {},
     "output_type": "display_data"
    },
    {
     "data": {
      "application/vnd.jupyter.widget-view+json": {
       "model_id": "86e119af21a34793826bc29a2782f9ee",
       "version_major": 2,
       "version_minor": 0
      },
      "text/plain": [
       "S1AA_20220708T173347_20220801T173349_VVP024_INT80_G_weF_D4AB.zip:   0%|          | 0/235634956 [00:00<?, ?it/s…"
      ]
     },
     "metadata": {},
     "output_type": "display_data"
    },
    {
     "data": {
      "application/vnd.jupyter.widget-view+json": {
       "model_id": "a7c005ba72be475ea230cdf84ef333cd",
       "version_major": 2,
       "version_minor": 0
      },
      "text/plain": [
       "S1AA_20210701T173341_20220626T173347_VVP360_INT80_G_weF_409D.zip:   0%|          | 0/235178914 [00:00<?, ?it/s…"
      ]
     },
     "metadata": {},
     "output_type": "display_data"
    },
    {
     "data": {
      "application/vnd.jupyter.widget-view+json": {
       "model_id": "e1122e1bffbe4982a7675e409630899f",
       "version_major": 2,
       "version_minor": 0
      },
      "text/plain": [
       "S1AA_20210806T173343_20210830T173344_VVP024_INT80_G_weF_88C8.zip:   0%|          | 0/234408071 [00:00<?, ?it/s…"
      ]
     },
     "metadata": {},
     "output_type": "display_data"
    },
    {
     "data": {
      "application/vnd.jupyter.widget-view+json": {
       "model_id": "ae517520075d4ceca4c31ba0420c2c13",
       "version_major": 2,
       "version_minor": 0
      },
      "text/plain": [
       "S1AA_20220614T173346_20220720T173348_VVP036_INT80_G_weF_C1D4.zip:   0%|          | 0/235623903 [00:00<?, ?it/s…"
      ]
     },
     "metadata": {},
     "output_type": "display_data"
    },
    {
     "data": {
      "application/vnd.jupyter.widget-view+json": {
       "model_id": "74a50e4497004403b14092c1021456bf",
       "version_major": 2,
       "version_minor": 0
      },
      "text/plain": [
       "S1AA_20210806T173343_20220813T173350_VVP372_INT80_G_weF_CC9C.zip:   0%|          | 0/235262035 [00:00<?, ?it/s…"
      ]
     },
     "metadata": {},
     "output_type": "display_data"
    },
    {
     "data": {
      "application/vnd.jupyter.widget-view+json": {
       "model_id": "522d0353d0c04db59d099a92df4d1f5c",
       "version_major": 2,
       "version_minor": 0
      },
      "text/plain": [
       "S1AA_20210818T173343_20210830T173344_VVP012_INT80_G_weF_DBCB.zip:   0%|          | 0/234027771 [00:00<?, ?it/s…"
      ]
     },
     "metadata": {},
     "output_type": "display_data"
    },
    {
     "data": {
      "application/vnd.jupyter.widget-view+json": {
       "model_id": "66735b43e49d469f8ab7821ebcf717f5",
       "version_major": 2,
       "version_minor": 0
      },
      "text/plain": [
       "S1AA_20220801T173349_20220825T173350_VVP024_INT80_G_weF_5A63.zip:   0%|          | 0/235336458 [00:00<?, ?it/s…"
      ]
     },
     "metadata": {},
     "output_type": "display_data"
    },
    {
     "data": {
      "application/vnd.jupyter.widget-view+json": {
       "model_id": "eb31cea694dd4e799676bdd61440ba1b",
       "version_major": 2,
       "version_minor": 0
      },
      "text/plain": [
       "S1AA_20220602T173345_20220614T173346_VVP012_INT80_G_weF_63D0.zip:   0%|          | 0/234404541 [00:00<?, ?it/s…"
      ]
     },
     "metadata": {},
     "output_type": "display_data"
    },
    {
     "data": {
      "application/vnd.jupyter.widget-view+json": {
       "model_id": "a16b7d561f404b17b85bcc516c0badfb",
       "version_major": 2,
       "version_minor": 0
      },
      "text/plain": [
       "S1AA_20210713T173341_20220708T173347_VVP360_INT80_G_weF_1353.zip:   0%|          | 0/236440886 [00:00<?, ?it/s…"
      ]
     },
     "metadata": {},
     "output_type": "display_data"
    },
    {
     "data": {
      "application/vnd.jupyter.widget-view+json": {
       "model_id": "5d4aa6bc9cdf4f7584475a4c0695ee30",
       "version_major": 2,
       "version_minor": 0
      },
      "text/plain": [
       "S1AA_20220918T173351_20220930T173351_VVP012_INT80_G_weF_8FB1.zip:   0%|          | 0/234246637 [00:00<?, ?it/s…"
      ]
     },
     "metadata": {},
     "output_type": "display_data"
    },
    {
     "data": {
      "application/vnd.jupyter.widget-view+json": {
       "model_id": "52163f29a401479ebfbbad64ab05aff6",
       "version_major": 2,
       "version_minor": 0
      },
      "text/plain": [
       "S1AA_20210818T173343_20220813T173350_VVP360_INT80_G_weF_28F1.zip:   0%|          | 0/235474822 [00:00<?, ?it/s…"
      ]
     },
     "metadata": {},
     "output_type": "display_data"
    },
    {
     "data": {
      "application/vnd.jupyter.widget-view+json": {
       "model_id": "9504049b375b48259ff46bca699bb37b",
       "version_major": 2,
       "version_minor": 0
      },
      "text/plain": [
       "S1AA_20210607T173339_20210701T173341_VVP024_INT80_G_weF_9854.zip:   0%|          | 0/235301001 [00:00<?, ?it/s…"
      ]
     },
     "metadata": {},
     "output_type": "display_data"
    },
    {
     "data": {
      "application/vnd.jupyter.widget-view+json": {
       "model_id": "7f0721150dd843d39ab5ecb7a3dbe7cd",
       "version_major": 2,
       "version_minor": 0
      },
      "text/plain": [
       "S1AA_20210701T173341_20210713T173341_VVP012_INT80_G_weF_C2A0.zip:   0%|          | 0/234703172 [00:00<?, ?it/s…"
      ]
     },
     "metadata": {},
     "output_type": "display_data"
    },
    {
     "data": {
      "application/vnd.jupyter.widget-view+json": {
       "model_id": "3a3fc41636e946d391bc9515d4f4e469",
       "version_major": 2,
       "version_minor": 0
      },
      "text/plain": [
       "S1AA_20210806T173343_20210911T173345_VVP036_INT80_G_weF_B8AE.zip:   0%|          | 0/234736277 [00:00<?, ?it/s…"
      ]
     },
     "metadata": {},
     "output_type": "display_data"
    },
    {
     "data": {
      "application/vnd.jupyter.widget-view+json": {
       "model_id": "74e667fa961b487aaaab7aae7c941905",
       "version_major": 2,
       "version_minor": 0
      },
      "text/plain": [
       "S1AA_20210619T173340_20210701T173341_VVP012_INT80_G_weF_DDB9.zip:   0%|          | 0/235478738 [00:00<?, ?it/s…"
      ]
     },
     "metadata": {},
     "output_type": "display_data"
    },
    {
     "data": {
      "application/vnd.jupyter.widget-view+json": {
       "model_id": "bae610a4fc2d481fab3c2b54360b26bc",
       "version_major": 2,
       "version_minor": 0
      },
      "text/plain": [
       "S1AA_20220813T173350_20220825T173350_VVP012_INT80_G_weF_AD9E.zip:   0%|          | 0/234350660 [00:00<?, ?it/s…"
      ]
     },
     "metadata": {},
     "output_type": "display_data"
    },
    {
     "data": {
      "application/vnd.jupyter.widget-view+json": {
       "model_id": "12274289032a4472af7f981dc53b1b18",
       "version_major": 2,
       "version_minor": 0
      },
      "text/plain": [
       "S1AA_20220602T173345_20220626T173347_VVP024_INT80_G_weF_76D3.zip:   0%|          | 0/234740352 [00:00<?, ?it/s…"
      ]
     },
     "metadata": {},
     "output_type": "display_data"
    },
    {
     "data": {
      "application/vnd.jupyter.widget-view+json": {
       "model_id": "64abf4f3266f46e09215eed5a9de764e",
       "version_major": 2,
       "version_minor": 0
      },
      "text/plain": [
       "S1AA_20210818T173343_20210911T173345_VVP024_INT80_G_weF_8F6B.zip:   0%|          | 0/234727549 [00:00<?, ?it/s…"
      ]
     },
     "metadata": {},
     "output_type": "display_data"
    },
    {
     "data": {
      "application/vnd.jupyter.widget-view+json": {
       "model_id": "963a45f3df8944759570427abf86fa76",
       "version_major": 2,
       "version_minor": 0
      },
      "text/plain": [
       "S1AA_20220825T173350_20220906T173351_VVP012_INT80_G_weF_C685.zip:   0%|          | 0/233725513 [00:00<?, ?it/s…"
      ]
     },
     "metadata": {},
     "output_type": "display_data"
    },
    {
     "data": {
      "application/vnd.jupyter.widget-view+json": {
       "model_id": "ad75a76849874eb38bf2dcdca532dddc",
       "version_major": 2,
       "version_minor": 0
      },
      "text/plain": [
       "S1AA_20220825T173350_20220930T173351_VVP036_INT80_G_weF_0276.zip:   0%|          | 0/235059922 [00:00<?, ?it/s…"
      ]
     },
     "metadata": {},
     "output_type": "display_data"
    },
    {
     "data": {
      "application/vnd.jupyter.widget-view+json": {
       "model_id": "a3a4825548a14a5a955c8e0ace29c99e",
       "version_major": 2,
       "version_minor": 0
      },
      "text/plain": [
       "S1AA_20210701T173341_20220708T173347_VVP372_INT80_G_weF_9B1E.zip:   0%|          | 0/235163923 [00:00<?, ?it/s…"
      ]
     },
     "metadata": {},
     "output_type": "display_data"
    },
    {
     "data": {
      "application/vnd.jupyter.widget-view+json": {
       "model_id": "b581787149ea4ad98a8c3bbf4f62ec11",
       "version_major": 2,
       "version_minor": 0
      },
      "text/plain": [
       "S1AA_20210806T173343_20220801T173349_VVP360_INT80_G_weF_3761.zip:   0%|          | 0/235564728 [00:00<?, ?it/s…"
      ]
     },
     "metadata": {},
     "output_type": "display_data"
    },
    {
     "data": {
      "application/vnd.jupyter.widget-view+json": {
       "model_id": "97ef0ec0e62c4a59aae3cd67e1c89884",
       "version_major": 2,
       "version_minor": 0
      },
      "text/plain": [
       "S1AA_20220720T173348_20220813T173350_VVP024_INT80_G_weF_4FFA.zip:   0%|          | 0/235596131 [00:00<?, ?it/s…"
      ]
     },
     "metadata": {},
     "output_type": "display_data"
    },
    {
     "data": {
      "application/vnd.jupyter.widget-view+json": {
       "model_id": "1c726745d5194c97880515a20e591a90",
       "version_major": 2,
       "version_minor": 0
      },
      "text/plain": [
       "S1AA_20220626T173347_20220708T173347_VVP012_INT80_G_weF_238A.zip:   0%|          | 0/234763029 [00:00<?, ?it/s…"
      ]
     },
     "metadata": {},
     "output_type": "display_data"
    },
    {
     "data": {
      "application/vnd.jupyter.widget-view+json": {
       "model_id": "c0c0314b48a141de82378ee20da16d1d",
       "version_major": 2,
       "version_minor": 0
      },
      "text/plain": [
       "S1AA_20210923T173345_20220918T173351_VVP360_INT80_G_weF_DA7E.zip:   0%|          | 0/235931120 [00:00<?, ?it/s…"
      ]
     },
     "metadata": {},
     "output_type": "display_data"
    },
    {
     "data": {
      "application/vnd.jupyter.widget-view+json": {
       "model_id": "eab472e2c815436cae28f277f5118ff1",
       "version_major": 2,
       "version_minor": 0
      },
      "text/plain": [
       "S1AA_20220602T173345_20220708T173347_VVP036_INT80_G_weF_DE92.zip:   0%|          | 0/235527320 [00:00<?, ?it/s…"
      ]
     },
     "metadata": {},
     "output_type": "display_data"
    },
    {
     "data": {
      "application/vnd.jupyter.widget-view+json": {
       "model_id": "d80a11bb8faa48bda80274cb38d1325d",
       "version_major": 2,
       "version_minor": 0
      },
      "text/plain": [
       "S1AA_20210911T173345_20220918T173351_VVP372_INT80_G_weF_087B.zip:   0%|          | 0/235505765 [00:00<?, ?it/s…"
      ]
     },
     "metadata": {},
     "output_type": "display_data"
    },
    {
     "data": {
      "application/vnd.jupyter.widget-view+json": {
       "model_id": "91dd93d3807e4b72b6c0320acbb950f1",
       "version_major": 2,
       "version_minor": 0
      },
      "text/plain": [
       "S1AA_20210725T173342_20210806T173343_VVP012_INT80_G_weF_0DB8.zip:   0%|          | 0/234215368 [00:00<?, ?it/s…"
      ]
     },
     "metadata": {},
     "output_type": "display_data"
    },
    {
     "data": {
      "application/vnd.jupyter.widget-view+json": {
       "model_id": "701d959055ad4f5c87f6fde76dbb93a2",
       "version_major": 2,
       "version_minor": 0
      },
      "text/plain": [
       "S1AA_20220906T173351_20220918T173351_VVP012_INT80_G_weF_A913.zip:   0%|          | 0/234449975 [00:00<?, ?it/s…"
      ]
     },
     "metadata": {},
     "output_type": "display_data"
    },
    {
     "data": {
      "application/vnd.jupyter.widget-view+json": {
       "model_id": "86e95af894584bc4852e42cd46844826",
       "version_major": 2,
       "version_minor": 0
      },
      "text/plain": [
       "S1AA_20210725T173342_20210830T173344_VVP036_INT80_G_weF_23B6.zip:   0%|          | 0/234673208 [00:00<?, ?it/s…"
      ]
     },
     "metadata": {},
     "output_type": "display_data"
    },
    {
     "data": {
      "application/vnd.jupyter.widget-view+json": {
       "model_id": "d5e9046c9b4c44f69526607346b75f21",
       "version_major": 2,
       "version_minor": 0
      },
      "text/plain": [
       "S1AA_20210818T173343_20210923T173345_VVP036_INT80_G_weF_FF61.zip:   0%|          | 0/235652098 [00:00<?, ?it/s…"
      ]
     },
     "metadata": {},
     "output_type": "display_data"
    },
    {
     "data": {
      "application/vnd.jupyter.widget-view+json": {
       "model_id": "12742f6943e14928a50ed28c528bac55",
       "version_major": 2,
       "version_minor": 0
      },
      "text/plain": [
       "S1AA_20210713T173341_20210806T173343_VVP024_INT80_G_weF_7EDA.zip:   0%|          | 0/235583264 [00:00<?, ?it/s…"
      ]
     },
     "metadata": {},
     "output_type": "display_data"
    },
    {
     "data": {
      "application/vnd.jupyter.widget-view+json": {
       "model_id": "bc22dddf16a64db38849360920030663",
       "version_major": 2,
       "version_minor": 0
      },
      "text/plain": [
       "S1AA_20210701T173341_20210806T173343_VVP036_INT80_G_weF_527B.zip:   0%|          | 0/235045846 [00:00<?, ?it/s…"
      ]
     },
     "metadata": {},
     "output_type": "display_data"
    },
    {
     "data": {
      "application/vnd.jupyter.widget-view+json": {
       "model_id": "93d9e1051535430f9c83bb29fe381488",
       "version_major": 2,
       "version_minor": 0
      },
      "text/plain": [
       "S1AA_20210619T173340_20210725T173342_VVP036_INT80_G_weF_DF55.zip:   0%|          | 0/236164869 [00:00<?, ?it/s…"
      ]
     },
     "metadata": {},
     "output_type": "display_data"
    },
    {
     "data": {
      "application/vnd.jupyter.widget-view+json": {
       "model_id": "af601a2cac254f688dfe16554e7ddcf9",
       "version_major": 2,
       "version_minor": 0
      },
      "text/plain": [
       "S1AA_20210818T173343_20220825T173350_VVP372_INT80_G_weF_00F9.zip:   0%|          | 0/235920098 [00:00<?, ?it/s…"
      ]
     },
     "metadata": {},
     "output_type": "display_data"
    },
    {
     "data": {
      "application/vnd.jupyter.widget-view+json": {
       "model_id": "afc0ce1183cb426baebebc4878180111",
       "version_major": 2,
       "version_minor": 0
      },
      "text/plain": [
       "S1AA_20210806T173343_20210818T173343_VVP012_INT80_G_weF_7B55.zip:   0%|          | 0/234514978 [00:00<?, ?it/s…"
      ]
     },
     "metadata": {},
     "output_type": "display_data"
    },
    {
     "data": {
      "application/vnd.jupyter.widget-view+json": {
       "model_id": "4bec58f5cb884a84a5a4256b80a5f201",
       "version_major": 2,
       "version_minor": 0
      },
      "text/plain": [
       "S1AA_20220720T173348_20220801T173349_VVP012_INT80_G_weF_60DE.zip:   0%|          | 0/235301762 [00:00<?, ?it/s…"
      ]
     },
     "metadata": {},
     "output_type": "display_data"
    },
    {
     "data": {
      "application/vnd.jupyter.widget-view+json": {
       "model_id": "09f947ba86604d57b49d4743bf657acc",
       "version_major": 2,
       "version_minor": 0
      },
      "text/plain": [
       "S1AA_20210725T173342_20220720T173348_VVP360_INT80_G_weF_24C5.zip:   0%|          | 0/235381957 [00:00<?, ?it/s…"
      ]
     },
     "metadata": {},
     "output_type": "display_data"
    },
    {
     "data": {
      "application/vnd.jupyter.widget-view+json": {
       "model_id": "a8fe016135a94ba8b3bbac08e0b20963",
       "version_major": 2,
       "version_minor": 0
      },
      "text/plain": [
       "S1AA_20220614T173346_20220626T173347_VVP012_INT80_G_weF_81DA.zip:   0%|          | 0/234403957 [00:00<?, ?it/s…"
      ]
     },
     "metadata": {},
     "output_type": "display_data"
    },
    {
     "data": {
      "application/vnd.jupyter.widget-view+json": {
       "model_id": "b2edebc50e9240489cc068c8d80881f5",
       "version_major": 2,
       "version_minor": 0
      },
      "text/plain": [
       "S1AA_20210607T173339_20220602T173345_VVP360_INT80_G_weF_3460.zip:   0%|          | 0/236126788 [00:00<?, ?it/s…"
      ]
     },
     "metadata": {},
     "output_type": "display_data"
    },
    {
     "data": {
      "application/vnd.jupyter.widget-view+json": {
       "model_id": "0ef6e6d94ae645aca93c77a4defc4991",
       "version_major": 2,
       "version_minor": 0
      },
      "text/plain": [
       "S1AA_20210713T173341_20220720T173348_VVP372_INT80_G_weF_9E2A.zip:   0%|          | 0/236189130 [00:00<?, ?it/s…"
      ]
     },
     "metadata": {},
     "output_type": "display_data"
    },
    {
     "data": {
      "application/vnd.jupyter.widget-view+json": {
       "model_id": "d57758e2c135457c87cf99cec538c7b3",
       "version_major": 2,
       "version_minor": 0
      },
      "text/plain": [
       "S1AA_20210725T173342_20220801T173349_VVP372_INT80_G_weF_26B1.zip:   0%|          | 0/235513563 [00:00<?, ?it/s…"
      ]
     },
     "metadata": {},
     "output_type": "display_data"
    },
    {
     "data": {
      "application/vnd.jupyter.widget-view+json": {
       "model_id": "001c370a267a426099b2a07f3634ad51",
       "version_major": 2,
       "version_minor": 0
      },
      "text/plain": [
       "S1AA_20210923T173345_20220930T173351_VVP372_INT80_G_weF_DECA.zip:   0%|          | 0/235822140 [00:00<?, ?it/s…"
      ]
     },
     "metadata": {},
     "output_type": "display_data"
    },
    {
     "data": {
      "application/vnd.jupyter.widget-view+json": {
       "model_id": "25e2ce05a8c44299b925185ec909583c",
       "version_major": 2,
       "version_minor": 0
      },
      "text/plain": [
       "S1AA_20220813T173350_20220918T173351_VVP036_INT80_G_weF_76FD.zip:   0%|          | 0/234904986 [00:00<?, ?it/s…"
      ]
     },
     "metadata": {},
     "output_type": "display_data"
    },
    {
     "data": {
      "application/vnd.jupyter.widget-view+json": {
       "model_id": "8b227852a15a45f79de8abd4c23e24f2",
       "version_major": 2,
       "version_minor": 0
      },
      "text/plain": [
       "S1AA_20220720T173348_20220825T173350_VVP036_INT80_G_weF_4AB5.zip:   0%|          | 0/235818895 [00:00<?, ?it/s…"
      ]
     },
     "metadata": {},
     "output_type": "display_data"
    },
    {
     "data": {
      "application/vnd.jupyter.widget-view+json": {
       "model_id": "b86d289a4ece428cbe8fcf53c1d60a6c",
       "version_major": 2,
       "version_minor": 0
      },
      "text/plain": [
       "S1AA_20210619T173340_20220614T173346_VVP360_INT80_G_weF_64BC.zip:   0%|          | 0/236311124 [00:00<?, ?it/s…"
      ]
     },
     "metadata": {},
     "output_type": "display_data"
    },
    {
     "data": {
      "application/vnd.jupyter.widget-view+json": {
       "model_id": "70876ccde4ac45bfb106c5b353ed39bb",
       "version_major": 2,
       "version_minor": 0
      },
      "text/plain": [
       "S1AA_20220614T173346_20220708T173347_VVP024_INT80_G_weF_B839.zip:   0%|          | 0/235243425 [00:00<?, ?it/s…"
      ]
     },
     "metadata": {},
     "output_type": "display_data"
    },
    {
     "data": {
      "application/vnd.jupyter.widget-view+json": {
       "model_id": "4d2e8b7fd32a4492935f3754776caa30",
       "version_major": 2,
       "version_minor": 0
      },
      "text/plain": [
       "S1AA_20220906T173351_20220930T173351_VVP024_INT80_G_weF_BA6B.zip:   0%|          | 0/235131420 [00:00<?, ?it/s…"
      ]
     },
     "metadata": {},
     "output_type": "display_data"
    },
    {
     "data": {
      "application/vnd.jupyter.widget-view+json": {
       "model_id": "d06416668b764a4d945654dd1bd704dd",
       "version_major": 2,
       "version_minor": 0
      },
      "text/plain": [
       "S1AA_20210619T173340_20220626T173347_VVP372_INT80_G_weF_4A6D.zip:   0%|          | 0/236003304 [00:00<?, ?it/s…"
      ]
     },
     "metadata": {},
     "output_type": "display_data"
    },
    {
     "data": {
      "application/vnd.jupyter.widget-view+json": {
       "model_id": "0841104835f04227b31d886f606fac9c",
       "version_major": 2,
       "version_minor": 0
      },
      "text/plain": [
       "S1AA_20210607T173339_20220614T173346_VVP372_INT80_G_weF_2019.zip:   0%|          | 0/236351747 [00:00<?, ?it/s…"
      ]
     },
     "metadata": {},
     "output_type": "display_data"
    },
    {
     "data": {
      "application/vnd.jupyter.widget-view+json": {
       "model_id": "59b281a33c724931915ec8c0fadfb2dd",
       "version_major": 2,
       "version_minor": 0
      },
      "text/plain": [
       "S1AA_20220626T173347_20220720T173348_VVP024_INT80_G_weF_98FF.zip:   0%|          | 0/235076458 [00:00<?, ?it/s…"
      ]
     },
     "metadata": {},
     "output_type": "display_data"
    },
    {
     "data": {
      "application/vnd.jupyter.widget-view+json": {
       "model_id": "0e77f855ba384e248eef67bb58e9dba1",
       "version_major": 2,
       "version_minor": 0
      },
      "text/plain": [
       "S1AA_20210713T173341_20210725T173342_VVP012_INT80_G_weF_4252.zip:   0%|          | 0/235626946 [00:00<?, ?it/s…"
      ]
     },
     "metadata": {},
     "output_type": "display_data"
    },
    {
     "data": {
      "application/vnd.jupyter.widget-view+json": {
       "model_id": "68aaef35cd8e4f758ec0766fd9608864",
       "version_major": 2,
       "version_minor": 0
      },
      "text/plain": [
       "S1AA_20210830T173344_20220906T173351_VVP372_INT80_G_weF_B7A0.zip:   0%|          | 0/235652387 [00:00<?, ?it/s…"
      ]
     },
     "metadata": {},
     "output_type": "display_data"
    },
    {
     "data": {
      "application/vnd.jupyter.widget-view+json": {
       "model_id": "06e37748c1524e9986b164bfb9c9f0cb",
       "version_major": 2,
       "version_minor": 0
      },
      "text/plain": [
       "S1AA_20210911T173345_20220906T173351_VVP360_INT80_G_weF_64C9.zip:   0%|          | 0/235309262 [00:00<?, ?it/s…"
      ]
     },
     "metadata": {},
     "output_type": "display_data"
    },
    {
     "data": {
      "application/vnd.jupyter.widget-view+json": {
       "model_id": "76fdfe4b6ee84113b6a9d64d96a517c9",
       "version_major": 2,
       "version_minor": 0
      },
      "text/plain": [
       "S1AA_20210607T173339_20210619T173340_VVP012_INT80_G_weF_DB53.zip:   0%|          | 0/235127968 [00:00<?, ?it/s…"
      ]
     },
     "metadata": {},
     "output_type": "display_data"
    },
    {
     "data": {
      "application/vnd.jupyter.widget-view+json": {
       "model_id": "b8330ca25e254ba68de2e179ddcd98ab",
       "version_major": 2,
       "version_minor": 0
      },
      "text/plain": [
       "S1AA_20210830T173344_20210911T173345_VVP012_INT80_G_weF_7EEC.zip:   0%|          | 0/234526625 [00:00<?, ?it/s…"
      ]
     },
     "metadata": {},
     "output_type": "display_data"
    },
    {
     "data": {
      "application/vnd.jupyter.widget-view+json": {
       "model_id": "360b99b0ea2749db95e420c4760977c7",
       "version_major": 2,
       "version_minor": 0
      },
      "text/plain": [
       "S1AA_20210725T173342_20210818T173343_VVP024_INT80_G_weF_D176.zip:   0%|          | 0/234711209 [00:00<?, ?it/s…"
      ]
     },
     "metadata": {},
     "output_type": "display_data"
    },
    {
     "data": {
      "application/vnd.jupyter.widget-view+json": {
       "model_id": "1d4333a15bd14866b6c8db727bee8d42",
       "version_major": 2,
       "version_minor": 0
      },
      "text/plain": [
       "S1AA_20220626T173347_20220801T173349_VVP036_INT80_G_weF_10CE.zip:   0%|          | 0/235255422 [00:00<?, ?it/s…"
      ]
     },
     "metadata": {},
     "output_type": "display_data"
    },
    {
     "data": {
      "application/vnd.jupyter.widget-view+json": {
       "model_id": "3de5538b030044a794ed79b00b8e5adb",
       "version_major": 2,
       "version_minor": 0
      },
      "text/plain": [
       "S1AA_20220801T173349_20220813T173350_VVP012_INT80_G_weF_E632.zip:   0%|          | 0/234985685 [00:00<?, ?it/s…"
      ]
     },
     "metadata": {},
     "output_type": "display_data"
    },
    {
     "data": {
      "application/vnd.jupyter.widget-view+json": {
       "model_id": "7815169a2dc3440e975821ba98d94d94",
       "version_major": 2,
       "version_minor": 0
      },
      "text/plain": [
       "S1AA_20220825T173350_20220918T173351_VVP024_INT80_G_weF_23A7.zip:   0%|          | 0/234134380 [00:00<?, ?it/s…"
      ]
     },
     "metadata": {},
     "output_type": "display_data"
    },
    {
     "data": {
      "application/vnd.jupyter.widget-view+json": {
       "model_id": "411d7c06353e4ca089d15b700cf4c199",
       "version_major": 2,
       "version_minor": 0
      },
      "text/plain": [
       "S1AA_20210701T173341_20210725T173342_VVP024_INT80_G_weF_44D6.zip:   0%|          | 0/235150473 [00:00<?, ?it/s…"
      ]
     },
     "metadata": {},
     "output_type": "display_data"
    },
    {
     "data": {
      "application/vnd.jupyter.widget-view+json": {
       "model_id": "20064f80d9914c46b1e6794b278d76e1",
       "version_major": 2,
       "version_minor": 0
      },
      "text/plain": [
       "S1AA_20210607T173339_20210713T173341_VVP036_INT80_G_weF_502C.zip:   0%|          | 0/235912989 [00:00<?, ?it/s…"
      ]
     },
     "metadata": {},
     "output_type": "display_data"
    },
    {
     "data": {
      "application/vnd.jupyter.widget-view+json": {
       "model_id": "f800272660544361a456ca28f57254c2",
       "version_major": 2,
       "version_minor": 0
      },
      "text/plain": [
       "S1AA_20210619T173340_20210713T173341_VVP024_INT80_G_weF_6A9A.zip:   0%|          | 0/235785890 [00:00<?, ?it/s…"
      ]
     },
     "metadata": {},
     "output_type": "display_data"
    },
    {
     "data": {
      "application/vnd.jupyter.widget-view+json": {
       "model_id": "7df05661f37d4fb28fb7d5ea75e5367d",
       "version_major": 2,
       "version_minor": 0
      },
      "text/plain": [
       "S1AA_20210713T173341_20210818T173343_VVP036_INT80_G_weF_EF08.zip:   0%|          | 0/235759075 [00:00<?, ?it/s…"
      ]
     },
     "metadata": {},
     "output_type": "display_data"
    }
   ],
   "source": [
    "# Download and clip hyp3 products one-by-one.\n",
    "for index in range(0, len(jobs)):\n",
    "    job = jobs[index]\n",
    "    insar_product = job.download_files(data_dir)\n",
    "    product_dir = sdk.util.extract_zipped_product(insar_product[0])\n",
    "    clip_hyp3_products_to_AOI(product_dir, overlap)"
   ]
  },
  {
   "cell_type": "markdown",
   "id": "c76ab96d-fbbd-436c-879d-07accafd1b05",
   "metadata": {},
   "source": [
    "### Delete unused files"
   ]
  },
  {
   "cell_type": "code",
   "execution_count": 39,
   "id": "00e8115c-808b-4dbc-9828-be8580b89958",
   "metadata": {},
   "outputs": [],
   "source": [
    "for pattern in [\"xml\",\"png\",\"kmz\",\"md.txt\"]:\n",
    "    unneeded_files = data_dir.glob(f\"*/*.{pattern}\")\n",
    "    for file in unneeded_files:\n",
    "        file.unlink()\n",
    "for pattern in [\"amp.tif\",\"corr.tif\",\"dem.tif\",\"phi.tif\", \"theta.tif\", \"phase.tif\", 'mask.tif']:\n",
    "    unneeded_files = data_dir.glob(f\"*/*{pattern}\")\n",
    "    for file in unneeded_files:\n",
    "        file.unlink()"
   ]
  },
  {
   "cell_type": "code",
   "execution_count": null,
   "id": "4b1d36fe-d5a4-4321-8df5-76604ae18aa0",
   "metadata": {},
   "outputs": [],
   "source": []
  }
 ],
 "metadata": {
  "kernelspec": {
   "display_name": "NISAR_EA_Workshop_2024_1 [conda env:.local-NISAR_EA_Workshop_2024_1]",
   "language": "python",
   "name": "conda-env-.local-NISAR_EA_Workshop_2024_1-py"
  },
  "language_info": {
   "codemirror_mode": {
    "name": "ipython",
    "version": 3
   },
   "file_extension": ".py",
   "mimetype": "text/x-python",
   "name": "python",
   "nbconvert_exporter": "python",
   "pygments_lexer": "ipython3",
   "version": "3.9.0"
  }
 },
 "nbformat": 4,
 "nbformat_minor": 5
}
